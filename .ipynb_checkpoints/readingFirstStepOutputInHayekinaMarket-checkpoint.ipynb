{
 "cells": [
  {
   "cell_type": "code",
   "execution_count": 1,
   "metadata": {},
   "outputs": [
    {
     "name": "stdout",
     "output_type": "stream",
     "text": [
      "Populating the interactive namespace from numpy and matplotlib\n"
     ]
    },
    {
     "data": {
      "text/plain": [
       "'0.23.1'"
      ]
     },
     "execution_count": 1,
     "metadata": {},
     "output_type": "execute_result"
    }
   ],
   "source": [
    "%pylab inline\n",
    "import pandas as pd\n",
    "pd.__version__"
   ]
  },
  {
   "cell_type": "markdown",
   "metadata": {},
   "source": [
    "The file read in the notebook is created in *mActions.py* with the code:\n",
    "\n",
    "```python\n",
    "        import csv\n",
    "        common.csvf=open(common.pro + \"/\" +\\\n",
    "           \"firstStepOutputInHayekianMarket.csv\", \"w\")\n",
    "        common.wr=csv.writer(common.csvf)\n",
    "        common.closed=False\n",
    "```"
   ]
  },
  {
   "cell_type": "markdown",
   "metadata": {},
   "source": [
    "The code used to generate the content of the file, after each action within the *macro* act, is reported with the different cases.\n",
    "\n",
    "**case nogoods**\n",
    "\n",
    "no prices (buy or sell); consumption as residual cons. capability of the buyer, in value; *id* both of the buyer and of the seller\n",
    "```python\n",
    "#ouput -  seller has no goods to sell\n",
    "elif common.cycle==common.startHayekianMarket:\n",
    "         common.wr.writerow\\\n",
    "         ([\"nogoods\", \"buy\", numpy.nan, self.consumption, \\\n",
    "         self.number,\\\n",
    "         \"sell\", numpy.nan,mySeller.number])\n",
    "```                     \n",
    "                     \n",
    "**cases deal, nodeal**\n",
    "\n",
    "prices (buy and sell); consumption as residual cons. capability of the buyer, in value; *id* both of the buyer and of the seller\n",
    "```python\n",
    "#output - deal vs. nodeal\n",
    "if common.cycle==common.startHayekianMarket:\n",
    "     if mySeller.statusS==1:\n",
    "        common.wr.writerow\\\n",
    "        ([\"deal\", \"buy\", self.buyPrice, self.consumption, \\\n",
    "        self.number,\\\n",
    "        \"sell\", mySeller.sellPrice,mySeller.number])\n",
    "     if mySeller.statusS==-1 and mySeller.sellPriceDefined:\n",
    "        common.wr.writerow\\\n",
    "        ([\"nodeal\", \"buy\", self.buyPrice, self.consumption, \\\n",
    "        self.number,\\\n",
    "        \"sell\", mySeller.sellPrice,mySeller.number])\n",
    "```\n",
    "\n",
    "**case seller list empty**\n",
    "\n",
    "unique price (buy); consumption as residual cons. capability of the buyer, in value; *id* uniquely of the buyer\n",
    "```python\n",
    "#output - self.sellerList==[]\n",
    "elif common.cycle==common.startHayekianMarket:\n",
    "     common.wr.writerow\\\n",
    "      ([\"nosellers\", \"buy\", self.buyPrice, self.consumption, \\\n",
    "      self.number,\\\n",
    "      \"sell\", numpy.nan,numpy.nan])\n",
    "```        \n",
    "        \n",
    "**case no more consumption capability**\n",
    "\n",
    "no prices (buy or sell); consumption as residual cons. capability of the buyer, as $0$ value; *id* uniquely of the buyer\n",
    "```python\n",
    "#output - self.consumption<=0\n",
    "elif common.cycle==common.startHayekianMarket:\n",
    "     common.wr.writerow\\\n",
    "       ([\"noconsumption\", \"buy\", numpy.nan, self.consumption, \\\n",
    "       self.number,\\\n",
    "       \"sell\", numpy.nan,numpy.nan])\n",
    "```\n"
   ]
  },
  {
   "cell_type": "code",
   "execution_count": null,
   "metadata": {},
   "outputs": [],
   "source": [
    "df=pd.read_csv('firstStepOutputInHayekianMarket.csv',header=None,usecols=[0,2,3,6],names=['result',\n",
    "              'buy','consumptions','sell'])"
   ]
  },
  {
   "cell_type": "code",
   "execution_count": null,
   "metadata": {},
   "outputs": [],
   "source": [
    "df.head()"
   ]
  },
  {
   "cell_type": "code",
   "execution_count": null,
   "metadata": {},
   "outputs": [],
   "source": [
    "df.count()"
   ]
  },
  {
   "cell_type": "code",
   "execution_count": null,
   "metadata": {},
   "outputs": [],
   "source": [
    "df.groupby('result').count()"
   ]
  },
  {
   "cell_type": "code",
   "execution_count": null,
   "metadata": {},
   "outputs": [],
   "source": [
    "df.describe()"
   ]
  },
  {
   "cell_type": "code",
   "execution_count": null,
   "metadata": {},
   "outputs": [],
   "source": [
    "# create a new col with true if ...\n",
    "deal = df['result'] == \"deal\""
   ]
  },
  {
   "cell_type": "code",
   "execution_count": null,
   "metadata": {},
   "outputs": [],
   "source": [
    "# used only to undestand the operation above\n",
    "df[df['result'] == \"deal\"].head()"
   ]
  },
  {
   "cell_type": "code",
   "execution_count": null,
   "metadata": {},
   "outputs": [],
   "source": [
    "df[deal].head()"
   ]
  },
  {
   "cell_type": "code",
   "execution_count": null,
   "metadata": {},
   "outputs": [],
   "source": [
    "df[deal].describe(include=numpy.number)"
   ]
  },
  {
   "cell_type": "code",
   "execution_count": null,
   "metadata": {},
   "outputs": [],
   "source": [
    "df.plot(figsize=(10,4),color=['b','g','r'])"
   ]
  },
  {
   "cell_type": "code",
   "execution_count": null,
   "metadata": {},
   "outputs": [],
   "source": [
    "df.tail(1000).plot(figsize=(10,4),color=['b','g','r'])"
   ]
  },
  {
   "cell_type": "code",
   "execution_count": null,
   "metadata": {},
   "outputs": [],
   "source": [
    "df.tail(75000).groupby('result').count()"
   ]
  },
  {
   "cell_type": "code",
   "execution_count": null,
   "metadata": {},
   "outputs": [],
   "source": [
    "df.head(2500).drop(columns='consumptions').plot(figsize=(10,4),color=['b','r'])"
   ]
  },
  {
   "cell_type": "code",
   "execution_count": null,
   "metadata": {},
   "outputs": [],
   "source": [
    "df[deal].head(2500).drop(columns='consumptions').plot(figsize=(10,4),color=['b','r'])"
   ]
  },
  {
   "cell_type": "code",
   "execution_count": null,
   "metadata": {
    "scrolled": true
   },
   "outputs": [],
   "source": [
    "df[deal][100:250].drop(columns='consumptions').plot(figsize=(10,4),color=['b','r'])"
   ]
  },
  {
   "cell_type": "code",
   "execution_count": null,
   "metadata": {},
   "outputs": [],
   "source": [
    "df.drop(columns='consumptions').plot(figsize=(10,4),color=['b','r'])"
   ]
  },
  {
   "cell_type": "code",
   "execution_count": null,
   "metadata": {},
   "outputs": [],
   "source": [
    "#df.tail(1000).drop(columns=['buy','sell']).plot(figsize=(10,4),color='g')\n",
    "#df.head(1000).drop(columns=['buy','sell']).plot(figsize=(10,4),color='g')\n",
    "df.drop(columns=['buy','sell']).plot(figsize=(10,4),color='g')"
   ]
  },
  {
   "cell_type": "code",
   "execution_count": null,
   "metadata": {},
   "outputs": [],
   "source": [
    "df[deal].drop(columns='consumptions').plot(figsize=(10,4),color=['b','r'])"
   ]
  },
  {
   "cell_type": "code",
   "execution_count": null,
   "metadata": {},
   "outputs": [],
   "source": [
    "df[deal].head(10000).drop(columns='consumptions').plot(figsize=(10,4),color=['b','r'])"
   ]
  },
  {
   "cell_type": "code",
   "execution_count": null,
   "metadata": {},
   "outputs": [],
   "source": [
    "df[deal].head(1000).describe(include=numpy.number,percentiles=[.25, .5, .75,0.95])"
   ]
  },
  {
   "cell_type": "code",
   "execution_count": null,
   "metadata": {},
   "outputs": [],
   "source": [
    "df.head(1000).describe(include=numpy.number,percentiles=[.25, .5, .75,0.95])"
   ]
  }
 ],
 "metadata": {
  "kernelspec": {
   "display_name": "Python 3",
   "language": "python",
   "name": "python3"
  },
  "language_info": {
   "codemirror_mode": {
    "name": "ipython",
    "version": 3
   },
   "file_extension": ".py",
   "mimetype": "text/x-python",
   "name": "python",
   "nbconvert_exporter": "python",
   "pygments_lexer": "ipython3",
   "version": "3.7.0"
  }
 },
 "nbformat": 4,
 "nbformat_minor": 2
}
