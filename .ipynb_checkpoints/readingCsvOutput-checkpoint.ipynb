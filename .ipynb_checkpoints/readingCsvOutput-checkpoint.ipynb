{
 "cells": [
  {
   "cell_type": "code",
   "execution_count": null,
   "metadata": {},
   "outputs": [],
   "source": [
    "%pylab inline\n",
    "import matplotlib.pyplot as plt\n",
    "\n",
    "#import matplotlib\n",
    "#matplotlib.style.use('ggplot') ## gnuplot style\n",
    "\n",
    "import numpy as np\n",
    "import pandas as pd\n",
    "\n",
    "#size\n",
    "width, height=12,8\n",
    "plt.rcParams['figure.figsize'] = width, height #aggiunta pt\n",
    "\n",
    "#precision in tables\n",
    "pd.set_option('precision',2)\n",
    "#rows in tables\n",
    "pd.set_option('display.max_rows', 1000)\n",
    "\n",
    "# this is used for regression below; install (via pip) statsmodels and patsy\n",
    "import statsmodels.formula.api as sm"
   ]
  },
  {
   "cell_type": "code",
   "execution_count": null,
   "metadata": {},
   "outputs": [],
   "source": [
    "# to chose a csv file in the current folder\n",
    "import os\n",
    "filesHere=os.listdir(\"./\")\n",
    "selected=[]\n",
    "for i in range(len(filesHere)):\n",
    "    if filesHere[i].find('_ts.csv')>0: selected.append(filesHere[i])\n",
    "selected.sort()\n",
    "for i in range(len(selected)):\n",
    "    print (i, selected[i])"
   ]
  },
  {
   "cell_type": "code",
   "execution_count": null,
   "metadata": {},
   "outputs": [],
   "source": [
    "num=int(input(\"Choose a file via its number (>=0;<=\"+str(len(selected)-1)+\" \"))\n",
    "\n",
    "try:\n",
    "    modPars_df = pd.read_csv(selected[num][:17]+'_modPars.csv')\n",
    "    modPars_df.index += 1 \n",
    "except BaseException:\n",
    "    modPars_df = pd.DataFrame([[\"no changes in parameters\"]],columns=[\"  \"])\n",
    "    modPars_df.index += 1\n",
    "\n",
    "firms=False\n",
    "    \n",
    "try:\n",
    "    firms_df = pd.read_csv(selected[num][:17]+'_firms.csv')\n",
    "    modPars_df.index += 1 \n",
    "    firms=True\n",
    "except BaseException:\n",
    "    pass\n",
    "\n",
    "\n",
    "par_df = pd.read_csv(selected[num][:17]+'_par.csv')\n",
    "par_df.index += 1 \n",
    "\n",
    "ts_df = pd.read_csv(selected[num])\n",
    "#set index to start from 1, data are collected at the end of each period\n",
    "ts_df.index += 1 \n",
    "\n",
    "str_df = pd.read_csv(selected[num][:17]+'_str.csv')\n",
    "#leave index to start from 0, data are collected at the beginning of each period"
   ]
  },
  {
   "cell_type": "markdown",
   "metadata": {},
   "source": [
    "***Parameters***"
   ]
  },
  {
   "cell_type": "code",
   "execution_count": null,
   "metadata": {},
   "outputs": [],
   "source": [
    "par_df.astype(str,errors='ignore')"
   ]
  },
  {
   "cell_type": "markdown",
   "metadata": {},
   "source": [
    "***Modified parameters***"
   ]
  },
  {
   "cell_type": "code",
   "execution_count": null,
   "metadata": {},
   "outputs": [],
   "source": [
    "modPars_df.astype(str,errors='ignore')"
   ]
  },
  {
   "cell_type": "markdown",
   "metadata": {},
   "source": [
    "***Time series, data collected at the end of each period***"
   ]
  },
  {
   "cell_type": "code",
   "execution_count": null,
   "metadata": {},
   "outputs": [],
   "source": [
    "ts_df"
   ]
  },
  {
   "cell_type": "code",
   "execution_count": null,
   "metadata": {},
   "outputs": [],
   "source": [
    "ts_df.describe()"
   ]
  },
  {
   "cell_type": "code",
   "execution_count": null,
   "metadata": {
    "scrolled": true
   },
   "outputs": [],
   "source": [
    "ts_df.corr(method=\"pearson\").style.format(\"{:.2}\")"
   ]
  },
  {
   "cell_type": "code",
   "execution_count": null,
   "metadata": {},
   "outputs": [],
   "source": [
    "result = sm.ols(formula=\"totalProfit ~ price + wage + totalProduction + unemployed\", \\\n",
    "                data=ts_df).fit()\n",
    "\n",
    "print (result.summary())"
   ]
  },
  {
   "cell_type": "markdown",
   "metadata": {},
   "source": [
    "***Structural infos, data collected at the beginning of each period***"
   ]
  },
  {
   "cell_type": "code",
   "execution_count": null,
   "metadata": {},
   "outputs": [],
   "source": [
    "str_df"
   ]
  },
  {
   "cell_type": "code",
   "execution_count": null,
   "metadata": {},
   "outputs": [],
   "source": [
    "myPlot = ts_df.plot(figsize=(11,8),secondary_y=['hPriceSd', 'price','wage'],marker=\"*\",\n",
    "color=[\"OrangeRed\",\"LawnGreen\",\"Blue\",\"Violet\",\"lightblue\",\"Pink\",\"Gray\",\"Brown\"])\n",
    "myPlot.set_ylabel('unemployed, totalProfit, totalProduction, plannedProduction, consumptionQ')\n",
    "myPlot.right_ax.set_ylabel('hPriceSd, price, wage')\n",
    "myPlot.legend(loc='upper left') #, bbox_to_anchor=(-0.35, 0.5)\n",
    "myPlot.axes.right_ax.legend(loc='lower right') #, bbox_to_anchor=(1.1, 0.5)"
   ]
  },
  {
   "cell_type": "code",
   "execution_count": null,
   "metadata": {},
   "outputs": [],
   "source": [
    "str_df.plot(figsize=(11,8),secondary_y='workers',marker=\"*\",color=[\"r\",\"b\"])"
   ]
  },
  {
   "cell_type": "markdown",
   "metadata": {},
   "source": [
    "Best solutions to produce a LaTeX table from these data (the example is related to ts_df.corr table):\n",
    "\n",
    "    corr=ts_df.corr(method='pearson')\n",
    "    print corr.to_latex()\n",
    "    \n",
    "    \"print\" to have the output nicely formatted; copy and paste it to LaTeX and the \n",
    "    result works.\n",
    "    \n",
    "To use caption and label with tabular simply include that output within:\n",
    "\n",
    "    \\begin{table}\n",
    "    \n",
    "    output above\n",
    "    \n",
    "    \\label{a label}\n",
    "    \\caption{a caption}\n",
    "    \\end{table}\n",
    "\n",
    "    You can add the usual [htbp] specification as \\begin{table}[htbp]\n",
    "\n",
    "\n",
    "Other solutions:\n",
    "1. online [http://www.tablesgenerator.com](http://www.tablesgenerator.com), reading the csv file;\n",
    "2. using a converter as [http://html2latex.sourceforge.net](http://html2latex.sourceforge.net).\n",
    "\n",
    "## The first method is applied in the cell below."
   ]
  },
  {
   "cell_type": "code",
   "execution_count": null,
   "metadata": {},
   "outputs": [],
   "source": [
    "corr=ts_df.corr(method='pearson')\n",
    "def ff(x):\n",
    "    return '%1.2f' % x\n",
    "print (corr.to_latex(formatters=[ff,ff,ff,ff,ff,ff,ff,ff]))"
   ]
  },
  {
   "cell_type": "markdown",
   "metadata": {},
   "source": [
    "## *Data from each firm in each period*"
   ]
  },
  {
   "cell_type": "code",
   "execution_count": null,
   "metadata": {},
   "outputs": [],
   "source": [
    "if firms: print(firms_df.describe())\n",
    "else: print('no data for each firm in each period')"
   ]
  }
 ],
 "metadata": {
  "kernelspec": {
   "display_name": "Python 3",
   "language": "python",
   "name": "python3"
  },
  "language_info": {
   "codemirror_mode": {
    "name": "ipython",
    "version": 3
   },
   "file_extension": ".py",
   "mimetype": "text/x-python",
   "name": "python",
   "nbconvert_exporter": "python",
   "pygments_lexer": "ipython3",
   "version": "3.7.0"
  }
 },
 "nbformat": 4,
 "nbformat_minor": 1
}
